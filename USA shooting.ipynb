{
 "cells": [
  {
   "cell_type": "raw",
   "metadata": {},
   "source": [
    "Shootings in the U.S. lately have been all over the news. From the shooting in Las Vegas in 2017 that killed more than 50 people, to the recent incident in Florida that caused 17 dead, I think we all need to think about why are these happening in our society.\n",
    "\n",
    "Recently I read about an incident that happened in my home city-NYC. It was about a man who was shot 8 times in the back by the police. This caused a massive protesting against police brutality. This kind of make me wondering about the relationship between police shooting and all aspects about people. \n",
    "\n",
    "The answers I want to find out are:\n",
    "1, Correclation between median income and number of shootings.\n",
    "2, between poverty rate.\n",
    "3, which race has the highest number of being shot by the police\n",
    "4, \n"
   ]
  },
  {
   "cell_type": "code",
   "execution_count": 50,
   "metadata": {},
   "outputs": [],
   "source": [
    "import pandas as pd\n",
    "import numpy as np\n",
    "import seaborn as sns\n",
    "import matplotlib.pyplot as plt\n",
    "%matplotlib inline"
   ]
  },
  {
   "cell_type": "code",
   "execution_count": 51,
   "metadata": {},
   "outputs": [],
   "source": [
    "ds = pd.read_csv('Diversity.csv',encoding='latin1')\n",
    "pr = pd.read_csv('Poverty rate.csv', encoding='latin1') # using encoding to solve the error: 'utf-8' codec can't decode. \n",
    "pk = pd.read_csv('Police Killings.csv',encoding='latin1')\n",
    "mi = pd.read_csv('Median income.csv',encoding='latin1')\n",
    "hs = pd.read_csv('HS.csv',encoding='latin1')"
   ]
  },
  {
   "cell_type": "code",
   "execution_count": 52,
   "metadata": {
    "scrolled": true
   },
   "outputs": [
    {
     "data": {
      "text/html": [
       "<div>\n",
       "<style scoped>\n",
       "    .dataframe tbody tr th:only-of-type {\n",
       "        vertical-align: middle;\n",
       "    }\n",
       "\n",
       "    .dataframe tbody tr th {\n",
       "        vertical-align: top;\n",
       "    }\n",
       "\n",
       "    .dataframe thead th {\n",
       "        text-align: right;\n",
       "    }\n",
       "</style>\n",
       "<table border=\"1\" class=\"dataframe\">\n",
       "  <thead>\n",
       "    <tr style=\"text-align: right;\">\n",
       "      <th></th>\n",
       "      <th>Geographic area</th>\n",
       "      <th>City</th>\n",
       "      <th>share_white</th>\n",
       "      <th>share_black</th>\n",
       "      <th>share_native_american</th>\n",
       "      <th>share_asian</th>\n",
       "      <th>share_hispanic</th>\n",
       "    </tr>\n",
       "  </thead>\n",
       "  <tbody>\n",
       "    <tr>\n",
       "      <th>0</th>\n",
       "      <td>AL</td>\n",
       "      <td>Abanda CDP</td>\n",
       "      <td>0.672</td>\n",
       "      <td>0.302</td>\n",
       "      <td>0</td>\n",
       "      <td>0</td>\n",
       "      <td>0.016</td>\n",
       "    </tr>\n",
       "    <tr>\n",
       "      <th>1</th>\n",
       "      <td>AL</td>\n",
       "      <td>Abbeville city</td>\n",
       "      <td>0.544</td>\n",
       "      <td>0.414</td>\n",
       "      <td>0.001</td>\n",
       "      <td>0.01</td>\n",
       "      <td>0.031</td>\n",
       "    </tr>\n",
       "    <tr>\n",
       "      <th>2</th>\n",
       "      <td>AL</td>\n",
       "      <td>Adamsville city</td>\n",
       "      <td>0.523</td>\n",
       "      <td>0.449</td>\n",
       "      <td>0.005</td>\n",
       "      <td>0.003</td>\n",
       "      <td>0.023</td>\n",
       "    </tr>\n",
       "    <tr>\n",
       "      <th>3</th>\n",
       "      <td>AL</td>\n",
       "      <td>Addison town</td>\n",
       "      <td>0.991</td>\n",
       "      <td>0.001</td>\n",
       "      <td>0</td>\n",
       "      <td>0.001</td>\n",
       "      <td>0.004</td>\n",
       "    </tr>\n",
       "    <tr>\n",
       "      <th>4</th>\n",
       "      <td>AL</td>\n",
       "      <td>Akron town</td>\n",
       "      <td>0.132</td>\n",
       "      <td>0.865</td>\n",
       "      <td>0</td>\n",
       "      <td>0</td>\n",
       "      <td>0.003</td>\n",
       "    </tr>\n",
       "  </tbody>\n",
       "</table>\n",
       "</div>"
      ],
      "text/plain": [
       "  Geographic area             City share_white share_black  \\\n",
       "0              AL       Abanda CDP       0.672       0.302   \n",
       "1              AL   Abbeville city       0.544       0.414   \n",
       "2              AL  Adamsville city       0.523       0.449   \n",
       "3              AL     Addison town       0.991       0.001   \n",
       "4              AL       Akron town       0.132       0.865   \n",
       "\n",
       "  share_native_american share_asian share_hispanic  \n",
       "0                     0           0          0.016  \n",
       "1                 0.001        0.01          0.031  \n",
       "2                 0.005       0.003          0.023  \n",
       "3                     0       0.001          0.004  \n",
       "4                     0           0          0.003  "
      ]
     },
     "execution_count": 52,
     "metadata": {},
     "output_type": "execute_result"
    }
   ],
   "source": [
    "ds.head()"
   ]
  },
  {
   "cell_type": "code",
   "execution_count": 53,
   "metadata": {},
   "outputs": [
    {
     "data": {
      "text/html": [
       "<div>\n",
       "<style scoped>\n",
       "    .dataframe tbody tr th:only-of-type {\n",
       "        vertical-align: middle;\n",
       "    }\n",
       "\n",
       "    .dataframe tbody tr th {\n",
       "        vertical-align: top;\n",
       "    }\n",
       "\n",
       "    .dataframe thead th {\n",
       "        text-align: right;\n",
       "    }\n",
       "</style>\n",
       "<table border=\"1\" class=\"dataframe\">\n",
       "  <thead>\n",
       "    <tr style=\"text-align: right;\">\n",
       "      <th></th>\n",
       "      <th>Geographic Area</th>\n",
       "      <th>City</th>\n",
       "      <th>poverty_rate</th>\n",
       "    </tr>\n",
       "  </thead>\n",
       "  <tbody>\n",
       "    <tr>\n",
       "      <th>0</th>\n",
       "      <td>AL</td>\n",
       "      <td>Abanda CDP</td>\n",
       "      <td>0.788</td>\n",
       "    </tr>\n",
       "    <tr>\n",
       "      <th>1</th>\n",
       "      <td>AL</td>\n",
       "      <td>Abbeville city</td>\n",
       "      <td>0.291</td>\n",
       "    </tr>\n",
       "    <tr>\n",
       "      <th>2</th>\n",
       "      <td>AL</td>\n",
       "      <td>Adamsville city</td>\n",
       "      <td>0.255</td>\n",
       "    </tr>\n",
       "    <tr>\n",
       "      <th>3</th>\n",
       "      <td>AL</td>\n",
       "      <td>Addison town</td>\n",
       "      <td>0.307</td>\n",
       "    </tr>\n",
       "    <tr>\n",
       "      <th>4</th>\n",
       "      <td>AL</td>\n",
       "      <td>Akron town</td>\n",
       "      <td>0.42</td>\n",
       "    </tr>\n",
       "  </tbody>\n",
       "</table>\n",
       "</div>"
      ],
      "text/plain": [
       "  Geographic Area             City poverty_rate\n",
       "0              AL       Abanda CDP        0.788\n",
       "1              AL   Abbeville city        0.291\n",
       "2              AL  Adamsville city        0.255\n",
       "3              AL     Addison town        0.307\n",
       "4              AL       Akron town         0.42"
      ]
     },
     "execution_count": 53,
     "metadata": {},
     "output_type": "execute_result"
    }
   ],
   "source": [
    "pr.head()"
   ]
  },
  {
   "cell_type": "code",
   "execution_count": 54,
   "metadata": {},
   "outputs": [
    {
     "data": {
      "text/html": [
       "<div>\n",
       "<style scoped>\n",
       "    .dataframe tbody tr th:only-of-type {\n",
       "        vertical-align: middle;\n",
       "    }\n",
       "\n",
       "    .dataframe tbody tr th {\n",
       "        vertical-align: top;\n",
       "    }\n",
       "\n",
       "    .dataframe thead th {\n",
       "        text-align: right;\n",
       "    }\n",
       "</style>\n",
       "<table border=\"1\" class=\"dataframe\">\n",
       "  <thead>\n",
       "    <tr style=\"text-align: right;\">\n",
       "      <th></th>\n",
       "      <th>id</th>\n",
       "      <th>name</th>\n",
       "      <th>date</th>\n",
       "      <th>manner_of_death</th>\n",
       "      <th>armed</th>\n",
       "      <th>age</th>\n",
       "      <th>gender</th>\n",
       "      <th>race</th>\n",
       "      <th>city</th>\n",
       "      <th>state</th>\n",
       "      <th>signs_of_mental_illness</th>\n",
       "      <th>threat_level</th>\n",
       "      <th>flee</th>\n",
       "      <th>body_camera</th>\n",
       "    </tr>\n",
       "  </thead>\n",
       "  <tbody>\n",
       "    <tr>\n",
       "      <th>0</th>\n",
       "      <td>3</td>\n",
       "      <td>Tim Elliot</td>\n",
       "      <td>02/01/15</td>\n",
       "      <td>shot</td>\n",
       "      <td>gun</td>\n",
       "      <td>53.0</td>\n",
       "      <td>M</td>\n",
       "      <td>A</td>\n",
       "      <td>Shelton</td>\n",
       "      <td>WA</td>\n",
       "      <td>True</td>\n",
       "      <td>attack</td>\n",
       "      <td>Not fleeing</td>\n",
       "      <td>False</td>\n",
       "    </tr>\n",
       "    <tr>\n",
       "      <th>1</th>\n",
       "      <td>4</td>\n",
       "      <td>Lewis Lee Lembke</td>\n",
       "      <td>02/01/15</td>\n",
       "      <td>shot</td>\n",
       "      <td>gun</td>\n",
       "      <td>47.0</td>\n",
       "      <td>M</td>\n",
       "      <td>W</td>\n",
       "      <td>Aloha</td>\n",
       "      <td>OR</td>\n",
       "      <td>False</td>\n",
       "      <td>attack</td>\n",
       "      <td>Not fleeing</td>\n",
       "      <td>False</td>\n",
       "    </tr>\n",
       "    <tr>\n",
       "      <th>2</th>\n",
       "      <td>5</td>\n",
       "      <td>John Paul Quintero</td>\n",
       "      <td>03/01/15</td>\n",
       "      <td>shot and Tasered</td>\n",
       "      <td>unarmed</td>\n",
       "      <td>23.0</td>\n",
       "      <td>M</td>\n",
       "      <td>H</td>\n",
       "      <td>Wichita</td>\n",
       "      <td>KS</td>\n",
       "      <td>False</td>\n",
       "      <td>other</td>\n",
       "      <td>Not fleeing</td>\n",
       "      <td>False</td>\n",
       "    </tr>\n",
       "    <tr>\n",
       "      <th>3</th>\n",
       "      <td>8</td>\n",
       "      <td>Matthew Hoffman</td>\n",
       "      <td>04/01/15</td>\n",
       "      <td>shot</td>\n",
       "      <td>toy weapon</td>\n",
       "      <td>32.0</td>\n",
       "      <td>M</td>\n",
       "      <td>W</td>\n",
       "      <td>San Francisco</td>\n",
       "      <td>CA</td>\n",
       "      <td>True</td>\n",
       "      <td>attack</td>\n",
       "      <td>Not fleeing</td>\n",
       "      <td>False</td>\n",
       "    </tr>\n",
       "    <tr>\n",
       "      <th>4</th>\n",
       "      <td>9</td>\n",
       "      <td>Michael Rodriguez</td>\n",
       "      <td>04/01/15</td>\n",
       "      <td>shot</td>\n",
       "      <td>nail gun</td>\n",
       "      <td>39.0</td>\n",
       "      <td>M</td>\n",
       "      <td>H</td>\n",
       "      <td>Evans</td>\n",
       "      <td>CO</td>\n",
       "      <td>False</td>\n",
       "      <td>attack</td>\n",
       "      <td>Not fleeing</td>\n",
       "      <td>False</td>\n",
       "    </tr>\n",
       "  </tbody>\n",
       "</table>\n",
       "</div>"
      ],
      "text/plain": [
       "   id                name      date   manner_of_death       armed   age  \\\n",
       "0   3          Tim Elliot  02/01/15              shot         gun  53.0   \n",
       "1   4    Lewis Lee Lembke  02/01/15              shot         gun  47.0   \n",
       "2   5  John Paul Quintero  03/01/15  shot and Tasered     unarmed  23.0   \n",
       "3   8     Matthew Hoffman  04/01/15              shot  toy weapon  32.0   \n",
       "4   9   Michael Rodriguez  04/01/15              shot    nail gun  39.0   \n",
       "\n",
       "  gender race           city state  signs_of_mental_illness threat_level  \\\n",
       "0      M    A        Shelton    WA                     True       attack   \n",
       "1      M    W          Aloha    OR                    False       attack   \n",
       "2      M    H        Wichita    KS                    False        other   \n",
       "3      M    W  San Francisco    CA                     True       attack   \n",
       "4      M    H          Evans    CO                    False       attack   \n",
       "\n",
       "          flee  body_camera  \n",
       "0  Not fleeing        False  \n",
       "1  Not fleeing        False  \n",
       "2  Not fleeing        False  \n",
       "3  Not fleeing        False  \n",
       "4  Not fleeing        False  "
      ]
     },
     "execution_count": 54,
     "metadata": {},
     "output_type": "execute_result"
    }
   ],
   "source": [
    "pk.head()"
   ]
  },
  {
   "cell_type": "code",
   "execution_count": 55,
   "metadata": {},
   "outputs": [
    {
     "data": {
      "text/html": [
       "<div>\n",
       "<style scoped>\n",
       "    .dataframe tbody tr th:only-of-type {\n",
       "        vertical-align: middle;\n",
       "    }\n",
       "\n",
       "    .dataframe tbody tr th {\n",
       "        vertical-align: top;\n",
       "    }\n",
       "\n",
       "    .dataframe thead th {\n",
       "        text-align: right;\n",
       "    }\n",
       "</style>\n",
       "<table border=\"1\" class=\"dataframe\">\n",
       "  <thead>\n",
       "    <tr style=\"text-align: right;\">\n",
       "      <th></th>\n",
       "      <th>Geographic Area</th>\n",
       "      <th>City</th>\n",
       "      <th>Median Income</th>\n",
       "    </tr>\n",
       "  </thead>\n",
       "  <tbody>\n",
       "    <tr>\n",
       "      <th>0</th>\n",
       "      <td>AZ</td>\n",
       "      <td>Stanfield CDP</td>\n",
       "      <td>4511</td>\n",
       "    </tr>\n",
       "    <tr>\n",
       "      <th>1</th>\n",
       "      <td>CA</td>\n",
       "      <td>Delft Colony CDP</td>\n",
       "      <td>6917</td>\n",
       "    </tr>\n",
       "    <tr>\n",
       "      <th>2</th>\n",
       "      <td>ND</td>\n",
       "      <td>Conway city</td>\n",
       "      <td>7083</td>\n",
       "    </tr>\n",
       "    <tr>\n",
       "      <th>3</th>\n",
       "      <td>AZ</td>\n",
       "      <td>Lower Santan Village CDP</td>\n",
       "      <td>7175</td>\n",
       "    </tr>\n",
       "    <tr>\n",
       "      <th>4</th>\n",
       "      <td>VA</td>\n",
       "      <td>Union Level CDP</td>\n",
       "      <td>8015</td>\n",
       "    </tr>\n",
       "  </tbody>\n",
       "</table>\n",
       "</div>"
      ],
      "text/plain": [
       "  Geographic Area                      City  Median Income\n",
       "0              AZ             Stanfield CDP           4511\n",
       "1              CA          Delft Colony CDP           6917\n",
       "2              ND               Conway city           7083\n",
       "3              AZ  Lower Santan Village CDP           7175\n",
       "4              VA           Union Level CDP           8015"
      ]
     },
     "execution_count": 55,
     "metadata": {},
     "output_type": "execute_result"
    }
   ],
   "source": [
    "mi.head()"
   ]
  },
  {
   "cell_type": "code",
   "execution_count": 56,
   "metadata": {},
   "outputs": [
    {
     "data": {
      "text/html": [
       "<div>\n",
       "<style scoped>\n",
       "    .dataframe tbody tr th:only-of-type {\n",
       "        vertical-align: middle;\n",
       "    }\n",
       "\n",
       "    .dataframe tbody tr th {\n",
       "        vertical-align: top;\n",
       "    }\n",
       "\n",
       "    .dataframe thead th {\n",
       "        text-align: right;\n",
       "    }\n",
       "</style>\n",
       "<table border=\"1\" class=\"dataframe\">\n",
       "  <thead>\n",
       "    <tr style=\"text-align: right;\">\n",
       "      <th></th>\n",
       "      <th>Geographic Area</th>\n",
       "      <th>City</th>\n",
       "      <th>percent_completed_hs</th>\n",
       "    </tr>\n",
       "  </thead>\n",
       "  <tbody>\n",
       "    <tr>\n",
       "      <th>0</th>\n",
       "      <td>AL</td>\n",
       "      <td>Abanda CDP</td>\n",
       "      <td>21.2</td>\n",
       "    </tr>\n",
       "    <tr>\n",
       "      <th>1</th>\n",
       "      <td>AL</td>\n",
       "      <td>Abbeville city</td>\n",
       "      <td>69.1</td>\n",
       "    </tr>\n",
       "    <tr>\n",
       "      <th>2</th>\n",
       "      <td>AL</td>\n",
       "      <td>Adamsville city</td>\n",
       "      <td>78.9</td>\n",
       "    </tr>\n",
       "    <tr>\n",
       "      <th>3</th>\n",
       "      <td>AL</td>\n",
       "      <td>Addison town</td>\n",
       "      <td>81.4</td>\n",
       "    </tr>\n",
       "    <tr>\n",
       "      <th>4</th>\n",
       "      <td>AL</td>\n",
       "      <td>Akron town</td>\n",
       "      <td>68.6</td>\n",
       "    </tr>\n",
       "  </tbody>\n",
       "</table>\n",
       "</div>"
      ],
      "text/plain": [
       "  Geographic Area             City percent_completed_hs\n",
       "0              AL       Abanda CDP                 21.2\n",
       "1              AL   Abbeville city                 69.1\n",
       "2              AL  Adamsville city                 78.9\n",
       "3              AL     Addison town                 81.4\n",
       "4              AL       Akron town                 68.6"
      ]
     },
     "execution_count": 56,
     "metadata": {},
     "output_type": "execute_result"
    }
   ],
   "source": [
    "hs.head()"
   ]
  },
  {
   "cell_type": "code",
   "execution_count": 57,
   "metadata": {},
   "outputs": [
    {
     "name": "stdout",
     "output_type": "stream",
     "text": [
      "29268\n",
      "27385\n",
      "29329\n",
      "29329\n"
     ]
    }
   ],
   "source": [
    "print(len(ds))\n",
    "print(len(mi))\n",
    "print(len(pr))\n",
    "print(len(hs))"
   ]
  },
  {
   "cell_type": "code",
   "execution_count": 58,
   "metadata": {},
   "outputs": [],
   "source": [
    "# merge pr, mi, and hs"
   ]
  },
  {
   "cell_type": "code",
   "execution_count": 59,
   "metadata": {},
   "outputs": [],
   "source": [
    "pk.rename(index=str, columns={'state':'Geographic Area', 'city':'City'}, inplace=True)\n",
    "ds.rename(index=str, columns={'Geographic area':'Geographic Area'}, inplace=True)\n",
    "\n",
    "hs = hs.merge(pr, how=\"left\", on=[\"Geographic Area\", \"City\"])\n",
    "hs = hs.merge(mi, how=\"left\", on=[\"Geographic Area\", \"City\"])\n",
    "hs = hs.merge(ds, how=\"left\", on=[\"Geographic Area\", \"City\"])\n",
    "\n",
    "hs.rename(index=str, columns={'Geographic Area':'Geographic_Area'}, inplace=True)"
   ]
  },
  {
   "cell_type": "code",
   "execution_count": 60,
   "metadata": {},
   "outputs": [
    {
     "data": {
      "text/html": [
       "<div>\n",
       "<style scoped>\n",
       "    .dataframe tbody tr th:only-of-type {\n",
       "        vertical-align: middle;\n",
       "    }\n",
       "\n",
       "    .dataframe tbody tr th {\n",
       "        vertical-align: top;\n",
       "    }\n",
       "\n",
       "    .dataframe thead th {\n",
       "        text-align: right;\n",
       "    }\n",
       "</style>\n",
       "<table border=\"1\" class=\"dataframe\">\n",
       "  <thead>\n",
       "    <tr style=\"text-align: right;\">\n",
       "      <th></th>\n",
       "      <th>Geographic_Area</th>\n",
       "      <th>City</th>\n",
       "      <th>percent_completed_hs</th>\n",
       "      <th>poverty_rate</th>\n",
       "      <th>Median Income</th>\n",
       "      <th>share_white</th>\n",
       "      <th>share_black</th>\n",
       "      <th>share_native_american</th>\n",
       "      <th>share_asian</th>\n",
       "      <th>share_hispanic</th>\n",
       "    </tr>\n",
       "  </thead>\n",
       "  <tbody>\n",
       "    <tr>\n",
       "      <th>0</th>\n",
       "      <td>AL</td>\n",
       "      <td>Abanda CDP</td>\n",
       "      <td>21.2</td>\n",
       "      <td>0.788</td>\n",
       "      <td>11207.0</td>\n",
       "      <td>0.672</td>\n",
       "      <td>0.302</td>\n",
       "      <td>0</td>\n",
       "      <td>0</td>\n",
       "      <td>0.016</td>\n",
       "    </tr>\n",
       "    <tr>\n",
       "      <th>1</th>\n",
       "      <td>AL</td>\n",
       "      <td>Abbeville city</td>\n",
       "      <td>69.1</td>\n",
       "      <td>0.291</td>\n",
       "      <td>25615.0</td>\n",
       "      <td>0.544</td>\n",
       "      <td>0.414</td>\n",
       "      <td>0.001</td>\n",
       "      <td>0.01</td>\n",
       "      <td>0.031</td>\n",
       "    </tr>\n",
       "    <tr>\n",
       "      <th>2</th>\n",
       "      <td>AL</td>\n",
       "      <td>Adamsville city</td>\n",
       "      <td>78.9</td>\n",
       "      <td>0.255</td>\n",
       "      <td>42575.0</td>\n",
       "      <td>0.523</td>\n",
       "      <td>0.449</td>\n",
       "      <td>0.005</td>\n",
       "      <td>0.003</td>\n",
       "      <td>0.023</td>\n",
       "    </tr>\n",
       "    <tr>\n",
       "      <th>3</th>\n",
       "      <td>AL</td>\n",
       "      <td>Addison town</td>\n",
       "      <td>81.4</td>\n",
       "      <td>0.307</td>\n",
       "      <td>37083.0</td>\n",
       "      <td>0.991</td>\n",
       "      <td>0.001</td>\n",
       "      <td>0</td>\n",
       "      <td>0.001</td>\n",
       "      <td>0.004</td>\n",
       "    </tr>\n",
       "    <tr>\n",
       "      <th>4</th>\n",
       "      <td>AL</td>\n",
       "      <td>Akron town</td>\n",
       "      <td>68.6</td>\n",
       "      <td>0.42</td>\n",
       "      <td>21667.0</td>\n",
       "      <td>0.132</td>\n",
       "      <td>0.865</td>\n",
       "      <td>0</td>\n",
       "      <td>0</td>\n",
       "      <td>0.003</td>\n",
       "    </tr>\n",
       "  </tbody>\n",
       "</table>\n",
       "</div>"
      ],
      "text/plain": [
       "  Geographic_Area             City percent_completed_hs poverty_rate  \\\n",
       "0              AL       Abanda CDP                 21.2        0.788   \n",
       "1              AL   Abbeville city                 69.1        0.291   \n",
       "2              AL  Adamsville city                 78.9        0.255   \n",
       "3              AL     Addison town                 81.4        0.307   \n",
       "4              AL       Akron town                 68.6         0.42   \n",
       "\n",
       "   Median Income share_white share_black share_native_american share_asian  \\\n",
       "0        11207.0       0.672       0.302                     0           0   \n",
       "1        25615.0       0.544       0.414                 0.001        0.01   \n",
       "2        42575.0       0.523       0.449                 0.005       0.003   \n",
       "3        37083.0       0.991       0.001                     0       0.001   \n",
       "4        21667.0       0.132       0.865                     0           0   \n",
       "\n",
       "  share_hispanic  \n",
       "0          0.016  \n",
       "1          0.031  \n",
       "2          0.023  \n",
       "3          0.004  \n",
       "4          0.003  "
      ]
     },
     "execution_count": 60,
     "metadata": {},
     "output_type": "execute_result"
    }
   ],
   "source": [
    "hs.head()"
   ]
  },
  {
   "cell_type": "code",
   "execution_count": 61,
   "metadata": {},
   "outputs": [
    {
     "data": {
      "text/plain": [
       "Geographic_Area             0\n",
       "City                        0\n",
       "percent_completed_hs        0\n",
       "poverty_rate                0\n",
       "Median Income            1946\n",
       "share_white               207\n",
       "share_black               207\n",
       "share_native_american     207\n",
       "share_asian               207\n",
       "share_hispanic            207\n",
       "dtype: int64"
      ]
     },
     "execution_count": 61,
     "metadata": {},
     "output_type": "execute_result"
    }
   ],
   "source": [
    "hs.isnull().sum()"
   ]
  },
  {
   "cell_type": "code",
   "execution_count": 62,
   "metadata": {},
   "outputs": [],
   "source": [
    "# for convenience, i will just drop the null values\n",
    "hs = hs.dropna()"
   ]
  },
  {
   "cell_type": "code",
   "execution_count": null,
   "metadata": {},
   "outputs": [],
   "source": []
  },
  {
   "cell_type": "code",
   "execution_count": 63,
   "metadata": {},
   "outputs": [],
   "source": [
    "# create a new table with grouped value for each state"
   ]
  },
  {
   "cell_type": "code",
   "execution_count": 64,
   "metadata": {},
   "outputs": [
    {
     "data": {
      "text/html": [
       "<div>\n",
       "<style scoped>\n",
       "    .dataframe tbody tr th:only-of-type {\n",
       "        vertical-align: middle;\n",
       "    }\n",
       "\n",
       "    .dataframe tbody tr th {\n",
       "        vertical-align: top;\n",
       "    }\n",
       "\n",
       "    .dataframe thead th {\n",
       "        text-align: right;\n",
       "    }\n",
       "</style>\n",
       "<table border=\"1\" class=\"dataframe\">\n",
       "  <thead>\n",
       "    <tr style=\"text-align: right;\">\n",
       "      <th></th>\n",
       "      <th>Geographic_Area</th>\n",
       "      <th>poverty_rate</th>\n",
       "      <th>median_income</th>\n",
       "      <th>percent_completed_hs</th>\n",
       "      <th>share_white</th>\n",
       "      <th>share_black</th>\n",
       "      <th>share_native_american</th>\n",
       "      <th>share_asian</th>\n",
       "      <th>share_hispanic</th>\n",
       "    </tr>\n",
       "  </thead>\n",
       "  <tbody>\n",
       "    <tr>\n",
       "      <th>0</th>\n",
       "      <td>AK</td>\n",
       "      <td>0.201561</td>\n",
       "      <td>52041.554386</td>\n",
       "      <td>84.914737</td>\n",
       "      <td>0.399411</td>\n",
       "      <td>0.006102</td>\n",
       "      <td>0.512968</td>\n",
       "      <td>0.016228</td>\n",
       "      <td>0.020947</td>\n",
       "    </tr>\n",
       "    <tr>\n",
       "      <th>1</th>\n",
       "      <td>AL</td>\n",
       "      <td>0.203568</td>\n",
       "      <td>40433.810761</td>\n",
       "      <td>80.694620</td>\n",
       "      <td>0.733545</td>\n",
       "      <td>0.224013</td>\n",
       "      <td>0.006384</td>\n",
       "      <td>0.005109</td>\n",
       "      <td>0.030625</td>\n",
       "    </tr>\n",
       "    <tr>\n",
       "      <th>2</th>\n",
       "      <td>AR</td>\n",
       "      <td>0.230961</td>\n",
       "      <td>35507.099609</td>\n",
       "      <td>80.287500</td>\n",
       "      <td>0.782271</td>\n",
       "      <td>0.166639</td>\n",
       "      <td>0.007145</td>\n",
       "      <td>0.004809</td>\n",
       "      <td>0.041883</td>\n",
       "    </tr>\n",
       "    <tr>\n",
       "      <th>3</th>\n",
       "      <td>AZ</td>\n",
       "      <td>0.251437</td>\n",
       "      <td>42512.921833</td>\n",
       "      <td>80.553369</td>\n",
       "      <td>0.612825</td>\n",
       "      <td>0.010111</td>\n",
       "      <td>0.264221</td>\n",
       "      <td>0.007809</td>\n",
       "      <td>0.217402</td>\n",
       "    </tr>\n",
       "    <tr>\n",
       "      <th>4</th>\n",
       "      <td>CA</td>\n",
       "      <td>0.167686</td>\n",
       "      <td>62165.578475</td>\n",
       "      <td>81.754858</td>\n",
       "      <td>0.705828</td>\n",
       "      <td>0.029236</td>\n",
       "      <td>0.016732</td>\n",
       "      <td>0.060388</td>\n",
       "      <td>0.309078</td>\n",
       "    </tr>\n",
       "  </tbody>\n",
       "</table>\n",
       "</div>"
      ],
      "text/plain": [
       "  Geographic_Area  poverty_rate  median_income  percent_completed_hs  \\\n",
       "0              AK      0.201561   52041.554386             84.914737   \n",
       "1              AL      0.203568   40433.810761             80.694620   \n",
       "2              AR      0.230961   35507.099609             80.287500   \n",
       "3              AZ      0.251437   42512.921833             80.553369   \n",
       "4              CA      0.167686   62165.578475             81.754858   \n",
       "\n",
       "   share_white  share_black  share_native_american  share_asian  \\\n",
       "0     0.399411     0.006102               0.512968     0.016228   \n",
       "1     0.733545     0.224013               0.006384     0.005109   \n",
       "2     0.782271     0.166639               0.007145     0.004809   \n",
       "3     0.612825     0.010111               0.264221     0.007809   \n",
       "4     0.705828     0.029236               0.016732     0.060388   \n",
       "\n",
       "   share_hispanic  \n",
       "0        0.020947  \n",
       "1        0.030625  \n",
       "2        0.041883  \n",
       "3        0.217402  \n",
       "4        0.309078  "
      ]
     },
     "execution_count": 64,
     "metadata": {},
     "output_type": "execute_result"
    }
   ],
   "source": [
    "# the values in the original table are str type\n",
    "\n",
    "hs['poverty_rate']=[float(x) for x in hs['poverty_rate']]\n",
    "hs['Median Income']=[float(x) for x in hs['Median Income']]\n",
    "hs['percent_completed_hs']=[float(x) for x in hs['percent_completed_hs']]\n",
    "hs['share_white']=[float(x) for x in hs['share_white']]\n",
    "hs['share_black']=[float(x) for x in hs['share_black']]\n",
    "hs['share_native_american']=[float(x) for x in hs['share_native_american']]\n",
    "hs['share_asian']=[float(x) for x in hs['share_asian']]\n",
    "hs['share_hispanic']=[float(x) for x in hs['share_hispanic']]\n",
    "\n",
    "\n",
    "\n",
    "# create a dataframe ot store values for the new table\n",
    "all_poverty_rate = pd.DataFrame(hs.groupby('Geographic_Area')[\"poverty_rate\"].mean())\n",
    "all_poverty_rate['median_income'] = hs.groupby('Geographic_Area')[\"Median Income\"].mean()\n",
    "all_poverty_rate['percent_completed_hs'] = hs.groupby('Geographic_Area')[\"percent_completed_hs\"].mean()\n",
    "all_poverty_rate['share_white'] = hs.groupby('Geographic_Area')[\"share_white\"].mean()\n",
    "all_poverty_rate['share_black'] = hs.groupby('Geographic_Area')[\"share_black\"].mean()\n",
    "all_poverty_rate['share_native_american'] = hs.groupby('Geographic_Area')[\"share_native_american\"].mean()\n",
    "all_poverty_rate['share_asian'] = hs.groupby('Geographic_Area')[\"share_asian\"].mean()\n",
    "all_poverty_rate['share_hispanic'] = hs.groupby('Geographic_Area')[\"share_hispanic\"].mean()\n",
    "all_poverty_rate=all_poverty_rate.reset_index()\n",
    "all_poverty_rate.head()"
   ]
  },
  {
   "cell_type": "code",
   "execution_count": 65,
   "metadata": {},
   "outputs": [
    {
     "data": {
      "text/html": [
       "<div>\n",
       "<style scoped>\n",
       "    .dataframe tbody tr th:only-of-type {\n",
       "        vertical-align: middle;\n",
       "    }\n",
       "\n",
       "    .dataframe tbody tr th {\n",
       "        vertical-align: top;\n",
       "    }\n",
       "\n",
       "    .dataframe thead th {\n",
       "        text-align: right;\n",
       "    }\n",
       "</style>\n",
       "<table border=\"1\" class=\"dataframe\">\n",
       "  <thead>\n",
       "    <tr style=\"text-align: right;\">\n",
       "      <th></th>\n",
       "      <th>Geographic_Area</th>\n",
       "      <th>poverty_rate</th>\n",
       "      <th>median_income</th>\n",
       "      <th>percent_completed_hs</th>\n",
       "      <th>share_white</th>\n",
       "      <th>share_black</th>\n",
       "      <th>share_native_american</th>\n",
       "      <th>share_asian</th>\n",
       "      <th>share_hispanic</th>\n",
       "    </tr>\n",
       "  </thead>\n",
       "  <tbody>\n",
       "    <tr>\n",
       "      <th>25</th>\n",
       "      <td>MS</td>\n",
       "      <td>0.271850</td>\n",
       "      <td>34780.482353</td>\n",
       "      <td>78.469412</td>\n",
       "      <td>0.532847</td>\n",
       "      <td>0.424653</td>\n",
       "      <td>0.014547</td>\n",
       "      <td>0.005659</td>\n",
       "      <td>0.023703</td>\n",
       "    </tr>\n",
       "    <tr>\n",
       "      <th>3</th>\n",
       "      <td>AZ</td>\n",
       "      <td>0.251437</td>\n",
       "      <td>42512.921833</td>\n",
       "      <td>80.553369</td>\n",
       "      <td>0.612825</td>\n",
       "      <td>0.010111</td>\n",
       "      <td>0.264221</td>\n",
       "      <td>0.007809</td>\n",
       "      <td>0.217402</td>\n",
       "    </tr>\n",
       "    <tr>\n",
       "      <th>10</th>\n",
       "      <td>GA</td>\n",
       "      <td>0.240146</td>\n",
       "      <td>39654.682196</td>\n",
       "      <td>78.986356</td>\n",
       "      <td>0.621293</td>\n",
       "      <td>0.310173</td>\n",
       "      <td>0.003037</td>\n",
       "      <td>0.015115</td>\n",
       "      <td>0.064677</td>\n",
       "    </tr>\n",
       "    <tr>\n",
       "      <th>2</th>\n",
       "      <td>AR</td>\n",
       "      <td>0.230961</td>\n",
       "      <td>35507.099609</td>\n",
       "      <td>80.287500</td>\n",
       "      <td>0.782271</td>\n",
       "      <td>0.166639</td>\n",
       "      <td>0.007145</td>\n",
       "      <td>0.004809</td>\n",
       "      <td>0.041883</td>\n",
       "    </tr>\n",
       "    <tr>\n",
       "      <th>32</th>\n",
       "      <td>NM</td>\n",
       "      <td>0.228502</td>\n",
       "      <td>41046.793651</td>\n",
       "      <td>81.202857</td>\n",
       "      <td>0.617997</td>\n",
       "      <td>0.007822</td>\n",
       "      <td>0.187714</td>\n",
       "      <td>0.005460</td>\n",
       "      <td>0.442378</td>\n",
       "    </tr>\n",
       "  </tbody>\n",
       "</table>\n",
       "</div>"
      ],
      "text/plain": [
       "   Geographic_Area  poverty_rate  median_income  percent_completed_hs  \\\n",
       "25              MS      0.271850   34780.482353             78.469412   \n",
       "3               AZ      0.251437   42512.921833             80.553369   \n",
       "10              GA      0.240146   39654.682196             78.986356   \n",
       "2               AR      0.230961   35507.099609             80.287500   \n",
       "32              NM      0.228502   41046.793651             81.202857   \n",
       "\n",
       "    share_white  share_black  share_native_american  share_asian  \\\n",
       "25     0.532847     0.424653               0.014547     0.005659   \n",
       "3      0.612825     0.010111               0.264221     0.007809   \n",
       "10     0.621293     0.310173               0.003037     0.015115   \n",
       "2      0.782271     0.166639               0.007145     0.004809   \n",
       "32     0.617997     0.007822               0.187714     0.005460   \n",
       "\n",
       "    share_hispanic  \n",
       "25        0.023703  \n",
       "3         0.217402  \n",
       "10        0.064677  \n",
       "2         0.041883  \n",
       "32        0.442378  "
      ]
     },
     "execution_count": 65,
     "metadata": {},
     "output_type": "execute_result"
    }
   ],
   "source": [
    "sapr = all_poverty_rate.sort_values(by=['poverty_rate'], ascending=False)\n",
    "sapr.head()"
   ]
  },
  {
   "cell_type": "code",
   "execution_count": 66,
   "metadata": {},
   "outputs": [
    {
     "data": {
      "text/plain": [
       "Text(0.5,1,'Average poverty rate in each state')"
      ]
     },
     "execution_count": 66,
     "metadata": {},
     "output_type": "execute_result"
    },
    {
     "data": {
      "image/png": "[encoded data removed]",
      "text/plain": [
       "<matplotlib.figure.Figure at 0x1a17d21f28>"
      ]
     },
     "metadata": {},
     "output_type": "display_data"
    }
   ],
   "source": [
    "plt.figure(figsize=(20,10))\n",
    "sns.barplot('Geographic_Area', 'poverty_rate', data=sapr)\n",
    "plt.title('Average poverty rate in each state', size=20)"
   ]
  },
  {
   "cell_type": "code",
   "execution_count": 67,
   "metadata": {},
   "outputs": [
    {
     "data": {
      "text/plain": [
       "Text(0.5,1,'Average poverty rate in each state')"
      ]
     },
     "execution_count": 67,
     "metadata": {},
     "output_type": "execute_result"
    },
    {
     "data": {
      "image/png": "[encoded data removed]",
      "text/plain": [
       "<matplotlib.figure.Figure at 0x1a1d937518>"
      ]
     },
     "metadata": {},
     "output_type": "display_data"
    }
   ],
   "source": [
    "# if the table is already sorted, then only need one .argsort(). if not will need 2 .argsort() to have the color math\n",
    "# with the value of the variable. darkest being the highest value and lightest being the lowest value.\n",
    "\n",
    "# show the decrease in each bar with color - dark to light(::-1). light to dark(::1)\n",
    "plt.figure(figsize=(20,10))\n",
    "pal = sns.color_palette(\"Reds_d\", len(sapr))\n",
    "rank = sapr[\"poverty_rate\"].argsort() # need to use argsort 2 times to get this affect\n",
    "sns.barplot(x='Geographic_Area',y='poverty_rate', data=sapr, palette=np.array(pal[::-1])[rank])\n",
    "plt.title('Average poverty rate in each state', size=20)"
   ]
  },
  {
   "cell_type": "code",
   "execution_count": 70,
   "metadata": {},
   "outputs": [],
   "source": [
    "# median income"
   ]
  },
  {
   "cell_type": "code",
   "execution_count": 71,
   "metadata": {},
   "outputs": [],
   "source": [
    "g2 = all_poverty_rate.sort_values(by=['median_income'], ascending=False)"
   ]
  },
  {
   "cell_type": "code",
   "execution_count": 72,
   "metadata": {},
   "outputs": [
    {
     "data": {
      "text/plain": [
       "Text(0.5,1,'average median_income in each state')"
      ]
     },
     "execution_count": 72,
     "metadata": {},
     "output_type": "execute_result"
    },
    {
     "data": {
      "image/png": "[encoded data removed]",
      "text/plain": [
       "<matplotlib.figure.Figure at 0x1a1dd88fd0>"
      ]
     },
     "metadata": {},
     "output_type": "display_data"
    }
   ],
   "source": [
    "plt.figure(figsize=(20,10))\n",
    "pal = sns.color_palette(\"Greens_d\", len(g2))\n",
    "rank = g2[\"median_income\"].argsort().argsort() # need to use argsort 2 times to get this affect\n",
    "sns.barplot(x='Geographic_Area',y='median_income', data=g2, palette=np.array(pal[::-1])[rank])\n",
    "plt.title('average median_income in each state', size=20)"
   ]
  },
  {
   "cell_type": "code",
   "execution_count": null,
   "metadata": {},
   "outputs": [],
   "source": []
  },
  {
   "cell_type": "code",
   "execution_count": 73,
   "metadata": {},
   "outputs": [],
   "source": [
    "# high school completion rate in each state"
   ]
  },
  {
   "cell_type": "code",
   "execution_count": 74,
   "metadata": {},
   "outputs": [],
   "source": [
    "g3 = all_poverty_rate.sort_values(by=['percent_completed_hs'], ascending=False)"
   ]
  },
  {
   "cell_type": "code",
   "execution_count": 75,
   "metadata": {},
   "outputs": [
    {
     "data": {
      "text/plain": [
       "Text(0.5,1,'percent_completed_hs in each state')"
      ]
     },
     "execution_count": 75,
     "metadata": {},
     "output_type": "execute_result"
    },
    {
     "data": {
      "image/png": "[encoded data removed]",
      "text/plain": [
       "<matplotlib.figure.Figure at 0x1a1e4da0b8>"
      ]
     },
     "metadata": {},
     "output_type": "display_data"
    }
   ],
   "source": [
    "from matplotlib import rc\n",
    "rc('font', weight='bold') # all the name of the state are now bold.\n",
    "\n",
    "plt.figure(figsize=(20,10))\n",
    "pal = sns.color_palette(\"Greens_d\", len(g3))\n",
    "rank = g3[\"percent_completed_hs\"].argsort().argsort() # need to use argsort 2 times to get this affect\n",
    "sns.barplot(x='Geographic_Area',y='percent_completed_hs', data=g3, palette=np.array(pal[::-1])[rank])\n",
    "plt.title('percent_completed_hs in each state', size=20)"
   ]
  },
  {
   "cell_type": "raw",
   "metadata": {},
   "source": [
    "Base on the 3 graphes, it looks like the state that with a higher HS graduation rate usually has a higher median\n",
    "income and a lower poverty rate."
   ]
  },
  {
   "cell_type": "code",
   "execution_count": 76,
   "metadata": {},
   "outputs": [
    {
     "data": {
      "text/plain": [
       "Text(0.5,1,'Comparison between poverty_rate and percent_completed_hs')"
      ]
     },
     "execution_count": 76,
     "metadata": {},
     "output_type": "execute_result"
    },
    {
     "data": {
      "image/png": "[encoded data removed]",
      "text/plain": [
       "<matplotlib.figure.Figure at 0x1a1c5531d0>"
      ]
     },
     "metadata": {},
     "output_type": "display_data"
    }
   ],
   "source": [
    "plt.figure(figsize=(10,5))\n",
    "plt.scatter(all_poverty_rate['poverty_rate'],all_poverty_rate['percent_completed_hs'],)\n",
    "plt.xlabel('poverty_rate')\n",
    "plt.ylabel('percent_completed_hs')\n",
    "plt.title('Comparison between poverty_rate and percent_completed_hs')\n",
    "\n",
    "#shows a strong correclation"
   ]
  },
  {
   "cell_type": "code",
   "execution_count": 77,
   "metadata": {},
   "outputs": [
    {
     "data": {
      "text/plain": [
       "Text(0.5,1,'Comparison between percent_completed_hs and median_income')"
      ]
     },
     "execution_count": 77,
     "metadata": {},
     "output_type": "execute_result"
    },
    {
     "data": {
      "image/png": "[encoded data removed]",
      "text/plain": [
       "<matplotlib.figure.Figure at 0x1a1e4dacf8>"
      ]
     },
     "metadata": {},
     "output_type": "display_data"
    }
   ],
   "source": [
    "plt.figure(figsize=(10,5))\n",
    "plt.scatter(all_poverty_rate['percent_completed_hs'],all_poverty_rate['median_income'],)\n",
    "plt.xlabel('percent_completed_hs')\n",
    "plt.ylabel('median_income')\n",
    "plt.title('Comparison between percent_completed_hs and median_income')\n",
    "\n",
    "# a pretty good correclation."
   ]
  },
  {
   "cell_type": "raw",
   "metadata": {},
   "source": [
    "Questions: How does diversity relate to the above variables that just analyzed?"
   ]
  },
  {
   "cell_type": "code",
   "execution_count": 120,
   "metadata": {},
   "outputs": [
    {
     "data": {
      "image/png": "[encoded data removed]",
      "text/plain": [
       "<matplotlib.figure.Figure at 0x1a286fbeb8>"
      ]
     },
     "metadata": {},
     "output_type": "display_data"
    }
   ],
   "source": [
    "plt.figure(figsize=(20,10))\n",
    "r = [int(x) for x in range(0, 51)]\n",
    "barWidth=1 # ZThe visual will look better\n",
    "plt.bar(r, sapr['share_white'], color='blue', edgecolor='white', width=barWidth,label='share_white')\n",
    "plt.bar(r, sapr['share_black'], color='black', edgecolor='white', width=barWidth,label='share_black')\n",
    "plt.bar(r, sapr['share_native_american'], color='green', edgecolor='white', width=barWidth,label='share_native_american')\n",
    "plt.bar(r, sapr['share_asian'], color='red', edgecolor='white', width=barWidth,label='share_asian')\n",
    "plt.bar(r, sapr['share_hispanic'], color='brown', edgecolor='white', width=barWidth,label='share_hispanic')\n",
    "\n",
    "plt.xticks(r, sapr['Geographic_Area'] , fontweight='bold')\n",
    "\n",
    "plt.title('% of diversity in each state - left to right = highest poverty rate to lowest poverty rate',size=20)\n",
    "plt.legend()\n",
    "plt.show()"
   ]
  },
  {
   "cell_type": "raw",
   "metadata": {},
   "source": [
    "lol I dont wanna say anything that will cause heated argument about my attitude toward different group of people.\n",
    "Share_asian is a irregularity in Hawaii state.\n",
    "\n",
    "The data here is not  accurate since they dont add up to 100%. \n",
    "\n",
    "This article talks about \"One-in-four Native Americans and Alaska Natives are living in poverty\".\n",
    "http://www.pewresearch.org/fact-tank/2014/06/13/1-in-4-native-americans-and-alaska-natives-are-living-in-poverty/\n",
    "\n",
    "In the graph, share_native_american indeed occupied a high percentage. (looks like there is no data for whites in AK)"
   ]
  },
  {
   "cell_type": "code",
   "execution_count": null,
   "metadata": {},
   "outputs": [],
   "source": []
  },
  {
   "cell_type": "raw",
   "metadata": {},
   "source": [
    "I wanna show the value on top of each bar but could not find the right function to do this.\n",
    "04/10: problem solved. Using patches and for loop."
   ]
  },
  {
   "cell_type": "code",
   "execution_count": 154,
   "metadata": {},
   "outputs": [
    {
     "data": {
      "image/png": "[encoded data removed]",
      "text/plain": [
       "<matplotlib.figure.Figure at 0x1a28f80128>"
      ]
     },
     "metadata": {},
     "output_type": "display_data"
    }
   ],
   "source": [
    "plt.figure(figsize=(20,10))\n",
    "pal = sns.color_palette(\"Greens_d\", len(sapr))\n",
    "rank = sapr[\"poverty_rate\"].argsort().argsort() # need to use argsort 2 times to get this affect\n",
    "g = sns.barplot(x='Geographic_Area',y='poverty_rate', data=sapr, palette=np.array(pal[::-1])[rank])\n",
    "plt.title('Average poverty rate in each state', size=20)\n",
    "\n",
    "for i in g.patches:\n",
    "    height = i.get_height()# get the values of each bar - poverty rate here\n",
    "    g.text(i.get_x()+i.get_width()/2., # control the value on top of each bar left or right\n",
    "    height + 0.001,# control the values up or down in each bar\n",
    "    '{:1.2f}'.format(height),\n",
    "    ha='center')#make sure the values are right in the cdnter on top of each bar\n",
    "plt.show()"
   ]
  },
  {
   "cell_type": "code",
   "execution_count": null,
   "metadata": {},
   "outputs": [],
   "source": []
  },
  {
   "cell_type": "code",
   "execution_count": null,
   "metadata": {},
   "outputs": [],
   "source": []
  },
  {
   "cell_type": "code",
   "execution_count": 121,
   "metadata": {},
   "outputs": [
    {
     "data": {
      "text/html": [
       "<div>\n",
       "<style scoped>\n",
       "    .dataframe tbody tr th:only-of-type {\n",
       "        vertical-align: middle;\n",
       "    }\n",
       "\n",
       "    .dataframe tbody tr th {\n",
       "        vertical-align: top;\n",
       "    }\n",
       "\n",
       "    .dataframe thead th {\n",
       "        text-align: right;\n",
       "    }\n",
       "</style>\n",
       "<table border=\"1\" class=\"dataframe\">\n",
       "  <thead>\n",
       "    <tr style=\"text-align: right;\">\n",
       "      <th></th>\n",
       "      <th>Geographic_Area</th>\n",
       "      <th>poverty_rate</th>\n",
       "      <th>median_income</th>\n",
       "      <th>percent_completed_hs</th>\n",
       "      <th>share_white</th>\n",
       "      <th>share_black</th>\n",
       "      <th>share_native_american</th>\n",
       "      <th>share_asian</th>\n",
       "      <th>share_hispanic</th>\n",
       "    </tr>\n",
       "  </thead>\n",
       "  <tbody>\n",
       "    <tr>\n",
       "      <th>0</th>\n",
       "      <td>AK</td>\n",
       "      <td>0.201561</td>\n",
       "      <td>52041.554386</td>\n",
       "      <td>84.914737</td>\n",
       "      <td>0.399411</td>\n",
       "      <td>0.006102</td>\n",
       "      <td>0.512968</td>\n",
       "      <td>0.016228</td>\n",
       "      <td>0.020947</td>\n",
       "    </tr>\n",
       "    <tr>\n",
       "      <th>1</th>\n",
       "      <td>AL</td>\n",
       "      <td>0.203568</td>\n",
       "      <td>40433.810761</td>\n",
       "      <td>80.694620</td>\n",
       "      <td>0.733545</td>\n",
       "      <td>0.224013</td>\n",
       "      <td>0.006384</td>\n",
       "      <td>0.005109</td>\n",
       "      <td>0.030625</td>\n",
       "    </tr>\n",
       "    <tr>\n",
       "      <th>2</th>\n",
       "      <td>AR</td>\n",
       "      <td>0.230961</td>\n",
       "      <td>35507.099609</td>\n",
       "      <td>80.287500</td>\n",
       "      <td>0.782271</td>\n",
       "      <td>0.166639</td>\n",
       "      <td>0.007145</td>\n",
       "      <td>0.004809</td>\n",
       "      <td>0.041883</td>\n",
       "    </tr>\n",
       "    <tr>\n",
       "      <th>3</th>\n",
       "      <td>AZ</td>\n",
       "      <td>0.251437</td>\n",
       "      <td>42512.921833</td>\n",
       "      <td>80.553369</td>\n",
       "      <td>0.612825</td>\n",
       "      <td>0.010111</td>\n",
       "      <td>0.264221</td>\n",
       "      <td>0.007809</td>\n",
       "      <td>0.217402</td>\n",
       "    </tr>\n",
       "    <tr>\n",
       "      <th>4</th>\n",
       "      <td>CA</td>\n",
       "      <td>0.167686</td>\n",
       "      <td>62165.578475</td>\n",
       "      <td>81.754858</td>\n",
       "      <td>0.705828</td>\n",
       "      <td>0.029236</td>\n",
       "      <td>0.016732</td>\n",
       "      <td>0.060388</td>\n",
       "      <td>0.309078</td>\n",
       "    </tr>\n",
       "  </tbody>\n",
       "</table>\n",
       "</div>"
      ],
      "text/plain": [
       "  Geographic_Area  poverty_rate  median_income  percent_completed_hs  \\\n",
       "0              AK      0.201561   52041.554386             84.914737   \n",
       "1              AL      0.203568   40433.810761             80.694620   \n",
       "2              AR      0.230961   35507.099609             80.287500   \n",
       "3              AZ      0.251437   42512.921833             80.553369   \n",
       "4              CA      0.167686   62165.578475             81.754858   \n",
       "\n",
       "   share_white  share_black  share_native_american  share_asian  \\\n",
       "0     0.399411     0.006102               0.512968     0.016228   \n",
       "1     0.733545     0.224013               0.006384     0.005109   \n",
       "2     0.782271     0.166639               0.007145     0.004809   \n",
       "3     0.612825     0.010111               0.264221     0.007809   \n",
       "4     0.705828     0.029236               0.016732     0.060388   \n",
       "\n",
       "   share_hispanic  \n",
       "0        0.020947  \n",
       "1        0.030625  \n",
       "2        0.041883  \n",
       "3        0.217402  \n",
       "4        0.309078  "
      ]
     },
     "execution_count": 121,
     "metadata": {},
     "output_type": "execute_result"
    }
   ],
   "source": [
    "all_poverty_rate.head()"
   ]
  },
  {
   "cell_type": "code",
   "execution_count": 170,
   "metadata": {},
   "outputs": [
    {
     "data": {
      "text/html": [
       "<div>\n",
       "<style scoped>\n",
       "    .dataframe tbody tr th:only-of-type {\n",
       "        vertical-align: middle;\n",
       "    }\n",
       "\n",
       "    .dataframe tbody tr th {\n",
       "        vertical-align: top;\n",
       "    }\n",
       "\n",
       "    .dataframe thead th {\n",
       "        text-align: right;\n",
       "    }\n",
       "</style>\n",
       "<table border=\"1\" class=\"dataframe\">\n",
       "  <thead>\n",
       "    <tr style=\"text-align: right;\">\n",
       "      <th></th>\n",
       "      <th>id</th>\n",
       "      <th>name</th>\n",
       "      <th>date</th>\n",
       "      <th>manner_of_death</th>\n",
       "      <th>armed</th>\n",
       "      <th>age</th>\n",
       "      <th>gender</th>\n",
       "      <th>race</th>\n",
       "      <th>City</th>\n",
       "      <th>Geographic Area</th>\n",
       "      <th>signs_of_mental_illness</th>\n",
       "      <th>threat_level</th>\n",
       "      <th>flee</th>\n",
       "      <th>body_camera</th>\n",
       "    </tr>\n",
       "  </thead>\n",
       "  <tbody>\n",
       "    <tr>\n",
       "      <th>0</th>\n",
       "      <td>3</td>\n",
       "      <td>Tim Elliot</td>\n",
       "      <td>02/01/15</td>\n",
       "      <td>shot</td>\n",
       "      <td>gun</td>\n",
       "      <td>53.0</td>\n",
       "      <td>M</td>\n",
       "      <td>A</td>\n",
       "      <td>Shelton</td>\n",
       "      <td>WA</td>\n",
       "      <td>True</td>\n",
       "      <td>attack</td>\n",
       "      <td>Not fleeing</td>\n",
       "      <td>False</td>\n",
       "    </tr>\n",
       "    <tr>\n",
       "      <th>1</th>\n",
       "      <td>4</td>\n",
       "      <td>Lewis Lee Lembke</td>\n",
       "      <td>02/01/15</td>\n",
       "      <td>shot</td>\n",
       "      <td>gun</td>\n",
       "      <td>47.0</td>\n",
       "      <td>M</td>\n",
       "      <td>W</td>\n",
       "      <td>Aloha</td>\n",
       "      <td>OR</td>\n",
       "      <td>False</td>\n",
       "      <td>attack</td>\n",
       "      <td>Not fleeing</td>\n",
       "      <td>False</td>\n",
       "    </tr>\n",
       "    <tr>\n",
       "      <th>2</th>\n",
       "      <td>5</td>\n",
       "      <td>John Paul Quintero</td>\n",
       "      <td>03/01/15</td>\n",
       "      <td>shot and Tasered</td>\n",
       "      <td>unarmed</td>\n",
       "      <td>23.0</td>\n",
       "      <td>M</td>\n",
       "      <td>H</td>\n",
       "      <td>Wichita</td>\n",
       "      <td>KS</td>\n",
       "      <td>False</td>\n",
       "      <td>other</td>\n",
       "      <td>Not fleeing</td>\n",
       "      <td>False</td>\n",
       "    </tr>\n",
       "    <tr>\n",
       "      <th>3</th>\n",
       "      <td>8</td>\n",
       "      <td>Matthew Hoffman</td>\n",
       "      <td>04/01/15</td>\n",
       "      <td>shot</td>\n",
       "      <td>toy weapon</td>\n",
       "      <td>32.0</td>\n",
       "      <td>M</td>\n",
       "      <td>W</td>\n",
       "      <td>San Francisco</td>\n",
       "      <td>CA</td>\n",
       "      <td>True</td>\n",
       "      <td>attack</td>\n",
       "      <td>Not fleeing</td>\n",
       "      <td>False</td>\n",
       "    </tr>\n",
       "    <tr>\n",
       "      <th>4</th>\n",
       "      <td>9</td>\n",
       "      <td>Michael Rodriguez</td>\n",
       "      <td>04/01/15</td>\n",
       "      <td>shot</td>\n",
       "      <td>nail gun</td>\n",
       "      <td>39.0</td>\n",
       "      <td>M</td>\n",
       "      <td>H</td>\n",
       "      <td>Evans</td>\n",
       "      <td>CO</td>\n",
       "      <td>False</td>\n",
       "      <td>attack</td>\n",
       "      <td>Not fleeing</td>\n",
       "      <td>False</td>\n",
       "    </tr>\n",
       "  </tbody>\n",
       "</table>\n",
       "</div>"
      ],
      "text/plain": [
       "   id                name      date   manner_of_death       armed   age  \\\n",
       "0   3          Tim Elliot  02/01/15              shot         gun  53.0   \n",
       "1   4    Lewis Lee Lembke  02/01/15              shot         gun  47.0   \n",
       "2   5  John Paul Quintero  03/01/15  shot and Tasered     unarmed  23.0   \n",
       "3   8     Matthew Hoffman  04/01/15              shot  toy weapon  32.0   \n",
       "4   9   Michael Rodriguez  04/01/15              shot    nail gun  39.0   \n",
       "\n",
       "  gender race           City Geographic Area  signs_of_mental_illness  \\\n",
       "0      M    A        Shelton              WA                     True   \n",
       "1      M    W          Aloha              OR                    False   \n",
       "2      M    H        Wichita              KS                    False   \n",
       "3      M    W  San Francisco              CA                     True   \n",
       "4      M    H          Evans              CO                    False   \n",
       "\n",
       "  threat_level         flee  body_camera  \n",
       "0       attack  Not fleeing        False  \n",
       "1       attack  Not fleeing        False  \n",
       "2        other  Not fleeing        False  \n",
       "3       attack  Not fleeing        False  \n",
       "4       attack  Not fleeing        False  "
      ]
     },
     "execution_count": 170,
     "metadata": {},
     "output_type": "execute_result"
    }
   ],
   "source": [
    "pk.head()"
   ]
  },
  {
   "cell_type": "code",
   "execution_count": 171,
   "metadata": {},
   "outputs": [],
   "source": [
    "pk.rename(index=str, columns={'Geographic Area':'Geographic_Area'}, inplace=True)"
   ]
  },
  {
   "cell_type": "code",
   "execution_count": null,
   "metadata": {},
   "outputs": [],
   "source": [
    "I wanna know the number of shooting death in each state"
   ]
  },
  {
   "cell_type": "code",
   "execution_count": 204,
   "metadata": {},
   "outputs": [
    {
     "data": {
      "text/html": [
       "<div>\n",
       "<style scoped>\n",
       "    .dataframe tbody tr th:only-of-type {\n",
       "        vertical-align: middle;\n",
       "    }\n",
       "\n",
       "    .dataframe tbody tr th {\n",
       "        vertical-align: top;\n",
       "    }\n",
       "\n",
       "    .dataframe thead th {\n",
       "        text-align: right;\n",
       "    }\n",
       "</style>\n",
       "<table border=\"1\" class=\"dataframe\">\n",
       "  <thead>\n",
       "    <tr style=\"text-align: right;\">\n",
       "      <th></th>\n",
       "      <th>Geographic_Area</th>\n",
       "      <th>manner_of_death</th>\n",
       "    </tr>\n",
       "  </thead>\n",
       "  <tbody>\n",
       "    <tr>\n",
       "      <th>4</th>\n",
       "      <td>CA</td>\n",
       "      <td>424</td>\n",
       "    </tr>\n",
       "    <tr>\n",
       "      <th>43</th>\n",
       "      <td>TX</td>\n",
       "      <td>225</td>\n",
       "    </tr>\n",
       "    <tr>\n",
       "      <th>9</th>\n",
       "      <td>FL</td>\n",
       "      <td>154</td>\n",
       "    </tr>\n",
       "    <tr>\n",
       "      <th>3</th>\n",
       "      <td>AZ</td>\n",
       "      <td>118</td>\n",
       "    </tr>\n",
       "    <tr>\n",
       "      <th>35</th>\n",
       "      <td>OH</td>\n",
       "      <td>79</td>\n",
       "    </tr>\n",
       "  </tbody>\n",
       "</table>\n",
       "</div>"
      ],
      "text/plain": [
       "   Geographic_Area  manner_of_death\n",
       "4               CA              424\n",
       "43              TX              225\n",
       "9               FL              154\n",
       "3               AZ              118\n",
       "35              OH               79"
      ]
     },
     "execution_count": 204,
     "metadata": {},
     "output_type": "execute_result"
    }
   ],
   "source": [
    "total_death_state = pd.DataFrame(pk.groupby('Geographic_Area')['manner_of_death'].count()).reset_index()\n",
    "total_death_state.sort_values(by='manner_of_death', ascending=False, inplace=True)\n",
    "total_death_state.head()"
   ]
  },
  {
   "cell_type": "code",
   "execution_count": 205,
   "metadata": {},
   "outputs": [
    {
     "data": {
      "image/png": "[encoded data removed]",
      "text/plain": [
       "<matplotlib.figure.Figure at 0x1a239b56a0>"
      ]
     },
     "metadata": {},
     "output_type": "display_data"
    },
    {
     "name": "stdout",
     "output_type": "stream",
     "text": [
      "          Date range from  31/12/16  to  01/01/16\n"
     ]
    }
   ],
   "source": [
    "plt.figure(figsize=(20,10))\n",
    "pal = sns.color_palette(\"Reds_d\", len(total_death_state))\n",
    "rank = total_death_state[\"manner_of_death\"].argsort().argsort() # need to use argsort 2 times to get this affect\n",
    "g = sns.barplot(x='Geographic_Area',y='manner_of_death', data=total_death_state, palette=np.array(pal[::-1])[rank])\n",
    "\n",
    "plt.title('number of shooting death in each state', size=20)\n",
    "plt.xlabel('Geographic_Area', size=20)\n",
    "plt.ylabel('manner_of_death', size=20)\n",
    "\n",
    "\n",
    "for i in g.patches:\n",
    "    height = i.get_height()# get the values of each bar - poverty rate here\n",
    "    g.text(i.get_x()+i.get_width()/2., # control the value on top of each bar left or right\n",
    "    height + 1,# control the values up or down in each bar\n",
    "    '{:1.0f}'.format(height),\n",
    "    ha='center')#make sure the values are right in the cdnter on top of each bar\n",
    "plt.show()\n",
    "\n",
    "print('          Date range from ',pk['date'].max(),' to ', pk['date'].min())"
   ]
  },
  {
   "cell_type": "raw",
   "metadata": {},
   "source": [
    "CA does has the highest number of people killed by Police."
   ]
  },
  {
   "cell_type": "code",
   "execution_count": null,
   "metadata": {},
   "outputs": [],
   "source": []
  },
  {
   "cell_type": "code",
   "execution_count": null,
   "metadata": {},
   "outputs": [],
   "source": []
  },
  {
   "cell_type": "code",
   "execution_count": null,
   "metadata": {},
   "outputs": [],
   "source": []
  }
 ],
 "metadata": {
  "kernelspec": {
   "display_name": "Python 3",
   "language": "python",
   "name": "python3"
  },
  "language_info": {
   "codemirror_mode": {
    "name": "ipython",
    "version": 3
   },
   "file_extension": ".py",
   "mimetype": "text/x-python",
   "name": "python",
   "nbconvert_exporter": "python",
   "pygments_lexer": "ipython3",
   "version": "3.6.4"
  }
 },
 "nbformat": 4,
 "nbformat_minor": 2
}
